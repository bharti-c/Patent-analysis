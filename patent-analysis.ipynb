{
 "cells": [
  {
   "cell_type": "code",
   "execution_count": 1,
   "id": "a283889f",
   "metadata": {
    "_cell_guid": "b1076dfc-b9ad-4769-8c92-a6c4dae69d19",
    "_uuid": "8f2839f25d086af736a60e9eeb907d3b93b6e0e5",
    "execution": {
     "iopub.execute_input": "2023-10-13T13:28:38.872431Z",
     "iopub.status.busy": "2023-10-13T13:28:38.871147Z",
     "iopub.status.idle": "2023-10-13T13:28:38.887488Z",
     "shell.execute_reply": "2023-10-13T13:28:38.885934Z"
    },
    "papermill": {
     "duration": 0.023224,
     "end_time": "2023-10-13T13:28:38.889630",
     "exception": false,
     "start_time": "2023-10-13T13:28:38.866406",
     "status": "completed"
    },
    "tags": []
   },
   "outputs": [
    {
     "name": "stdout",
     "output_type": "stream",
     "text": [
      "/kaggle/input/patents-granted-india-2022/application_details_granted_2022.csv\n"
     ]
    }
   ],
   "source": [
    "# This Python 3 environment comes with many helpful analytics libraries installed\n",
    "# It is defined by the kaggle/python Docker image: https://github.com/kaggle/docker-python\n",
    "# For example, here's several helpful packages to load\n",
    "\n",
    "import numpy as np # linear algebra\n",
    "import pandas as pd # data processing, CSV file I/O (e.g. pd.read_csv)\n",
    "from matplotlib import pyplot as plt #Graphing tool\n",
    "\n",
    "# Input data files are available in the read-only \"../input/\" directory\n",
    "# For example, running this (by clicking run or pressing Shift+Enter) will list all files under the input directory\n",
    "\n",
    "import os\n",
    "filepath = '/kaggle/input/patents-granted-india-2022/application_details_granted_2022.csv'\n",
    "for dirname, _, filenames in os.walk('/kaggle/input'):\n",
    "    for filename in filenames:\n",
    "        print(os.path.join(dirname, filename))\n",
    "    \n",
    "\n",
    "# You can write up to 20GB to the current directory (/kaggle/working/) that gets preserved as output when you create a version using \"Save & Run All\" \n",
    "# You can also write temporary files to /kaggle/temp/, but they won't be saved outside of the current session"
   ]
  },
  {
   "cell_type": "code",
   "execution_count": 2,
   "id": "0099873a",
   "metadata": {
    "execution": {
     "iopub.execute_input": "2023-10-13T13:28:38.896851Z",
     "iopub.status.busy": "2023-10-13T13:28:38.896525Z",
     "iopub.status.idle": "2023-10-13T13:28:39.106828Z",
     "shell.execute_reply": "2023-10-13T13:28:39.105724Z"
    },
    "papermill": {
     "duration": 0.216688,
     "end_time": "2023-10-13T13:28:39.109238",
     "exception": false,
     "start_time": "2023-10-13T13:28:38.892550",
     "status": "completed"
    },
    "tags": []
   },
   "outputs": [],
   "source": [
    "df = pd.read_csv(filepath)"
   ]
  },
  {
   "cell_type": "code",
   "execution_count": 3,
   "id": "020698e9",
   "metadata": {
    "execution": {
     "iopub.execute_input": "2023-10-13T13:28:39.116254Z",
     "iopub.status.busy": "2023-10-13T13:28:39.115899Z",
     "iopub.status.idle": "2023-10-13T13:28:39.152359Z",
     "shell.execute_reply": "2023-10-13T13:28:39.151219Z"
    },
    "papermill": {
     "duration": 0.042732,
     "end_time": "2023-10-13T13:28:39.154693",
     "exception": false,
     "start_time": "2023-10-13T13:28:39.111961",
     "status": "completed"
    },
    "tags": []
   },
   "outputs": [
    {
     "data": {
      "text/html": [
       "<div>\n",
       "<style scoped>\n",
       "    .dataframe tbody tr th:only-of-type {\n",
       "        vertical-align: middle;\n",
       "    }\n",
       "\n",
       "    .dataframe tbody tr th {\n",
       "        vertical-align: top;\n",
       "    }\n",
       "\n",
       "    .dataframe thead th {\n",
       "        text-align: right;\n",
       "    }\n",
       "</style>\n",
       "<table border=\"1\" class=\"dataframe\">\n",
       "  <thead>\n",
       "    <tr style=\"text-align: right;\">\n",
       "      <th></th>\n",
       "      <th>PUBLICATION_NUMBER</th>\n",
       "      <th>PUBLICATION_DATE</th>\n",
       "      <th>IPO_LOCATION</th>\n",
       "      <th>APPLICATION_TYPE_DESC</th>\n",
       "      <th>APPLICATION_NUMBER</th>\n",
       "      <th>DATE_OF_FILING</th>\n",
       "      <th>TITLE_OF_INVENTION</th>\n",
       "      <th>FIELD_OF_INVENTION</th>\n",
       "      <th>NO_OF_PAGES</th>\n",
       "      <th>NO_OF_CLAIMS</th>\n",
       "      <th>DATE_UPDATED_d_m_y</th>\n",
       "    </tr>\n",
       "  </thead>\n",
       "  <tbody>\n",
       "    <tr>\n",
       "      <th>0</th>\n",
       "      <td>01/2022</td>\n",
       "      <td>07/01/2022</td>\n",
       "      <td>Delhi</td>\n",
       "      <td>DIVISIONAL CONVENTION APPLICATION</td>\n",
       "      <td>1004/DEL/2015</td>\n",
       "      <td>10/04/2015</td>\n",
       "      <td>VOLTAGE CONTROL FOR WIND GENERATORS</td>\n",
       "      <td>ELECTRICAL</td>\n",
       "      <td>19.0</td>\n",
       "      <td>6.0</td>\n",
       "      <td>19/04/2023</td>\n",
       "    </tr>\n",
       "    <tr>\n",
       "      <th>1</th>\n",
       "      <td>01/2022</td>\n",
       "      <td>07/01/2022</td>\n",
       "      <td>Delhi</td>\n",
       "      <td>PCT NATIONAL PHASE APPLICATION</td>\n",
       "      <td>10143/DELNP/2011</td>\n",
       "      <td>22/12/2011</td>\n",
       "      <td>\"ROTOR CAN\"</td>\n",
       "      <td>ELECTRICAL</td>\n",
       "      <td>23.0</td>\n",
       "      <td>15.0</td>\n",
       "      <td>19/04/2023</td>\n",
       "    </tr>\n",
       "    <tr>\n",
       "      <th>2</th>\n",
       "      <td>01/2022</td>\n",
       "      <td>07/01/2022</td>\n",
       "      <td>Chennai</td>\n",
       "      <td>ORDINARY APPLICATION</td>\n",
       "      <td>102/CHE/2010</td>\n",
       "      <td>15/02/2010</td>\n",
       "      <td>SUPER CONDUCTOR LIGHTNING DIVERTOR</td>\n",
       "      <td>ELECTRICAL</td>\n",
       "      <td>17.0</td>\n",
       "      <td>10.0</td>\n",
       "      <td>19/04/2023</td>\n",
       "    </tr>\n",
       "    <tr>\n",
       "      <th>3</th>\n",
       "      <td>01/2022</td>\n",
       "      <td>07/01/2022</td>\n",
       "      <td>Delhi</td>\n",
       "      <td>PCT NATIONAL PHASE APPLICATION</td>\n",
       "      <td>10205/DELNP/2015</td>\n",
       "      <td>02/11/2015</td>\n",
       "      <td>FIBRINOGEN BASED TISSUE ADHESIVE PATCHES</td>\n",
       "      <td>BIOCHEMISTRY</td>\n",
       "      <td>35.0</td>\n",
       "      <td>62.0</td>\n",
       "      <td>19/04/2023</td>\n",
       "    </tr>\n",
       "    <tr>\n",
       "      <th>4</th>\n",
       "      <td>01/2022</td>\n",
       "      <td>07/01/2022</td>\n",
       "      <td>Delhi</td>\n",
       "      <td>PCT NATIONAL PHASE APPLICATION</td>\n",
       "      <td>10296/DELNP/2011</td>\n",
       "      <td>27/12/2011</td>\n",
       "      <td>\"IMPLANTABLE DRUG DELIVERY DEVICES AND METHODS...</td>\n",
       "      <td>BIOMEDICAL</td>\n",
       "      <td>73.0</td>\n",
       "      <td>25.0</td>\n",
       "      <td>19/04/2023</td>\n",
       "    </tr>\n",
       "    <tr>\n",
       "      <th>5</th>\n",
       "      <td>01/2022</td>\n",
       "      <td>07/01/2022</td>\n",
       "      <td>Delhi</td>\n",
       "      <td>PCT NATIONAL PHASE APPLICATION</td>\n",
       "      <td>10353/DELNP/2013</td>\n",
       "      <td>02/12/2013</td>\n",
       "      <td>GAS TURBINE DIFFUSER BLOWING METHOD AND CORRES...</td>\n",
       "      <td>MECHANICAL</td>\n",
       "      <td>20.0</td>\n",
       "      <td>11.0</td>\n",
       "      <td>19/04/2023</td>\n",
       "    </tr>\n",
       "    <tr>\n",
       "      <th>6</th>\n",
       "      <td>01/2022</td>\n",
       "      <td>07/01/2022</td>\n",
       "      <td>Kolkata</td>\n",
       "      <td>ORDINARY APPLICATION</td>\n",
       "      <td>1056/KOL/2013</td>\n",
       "      <td>11/09/2013</td>\n",
       "      <td>'AN IMPROVED GAS FIRED DUCT BURNER FOR EFFICIE...</td>\n",
       "      <td>MECHANICAL</td>\n",
       "      <td>16.0</td>\n",
       "      <td>1.0</td>\n",
       "      <td>19/04/2023</td>\n",
       "    </tr>\n",
       "    <tr>\n",
       "      <th>7</th>\n",
       "      <td>01/2022</td>\n",
       "      <td>07/01/2022</td>\n",
       "      <td>Delhi</td>\n",
       "      <td>PCT NATIONAL PHASE APPLICATION</td>\n",
       "      <td>10625/DELNP/2015</td>\n",
       "      <td>19/11/2015</td>\n",
       "      <td>CLUSTER HEAD SELECTION IN A COMMUNICATIONS NET...</td>\n",
       "      <td>COMMUNICATION</td>\n",
       "      <td>34.0</td>\n",
       "      <td>25.0</td>\n",
       "      <td>19/04/2023</td>\n",
       "    </tr>\n",
       "    <tr>\n",
       "      <th>8</th>\n",
       "      <td>01/2022</td>\n",
       "      <td>07/01/2022</td>\n",
       "      <td>Kolkata</td>\n",
       "      <td>PCT NATIONAL PHASE APPLICATION</td>\n",
       "      <td>1078/KOLNP/2015</td>\n",
       "      <td>20/04/2015</td>\n",
       "      <td>APPARATUS AND METHOD FOR CUTTING PIPES OF THER...</td>\n",
       "      <td>MECHANICAL</td>\n",
       "      <td>30.0</td>\n",
       "      <td>16.0</td>\n",
       "      <td>19/04/2023</td>\n",
       "    </tr>\n",
       "    <tr>\n",
       "      <th>9</th>\n",
       "      <td>01/2022</td>\n",
       "      <td>07/01/2022</td>\n",
       "      <td>Delhi</td>\n",
       "      <td>PCT NATIONAL PHASE APPLICATION</td>\n",
       "      <td>10908/DELNP/2015</td>\n",
       "      <td>30/11/2015</td>\n",
       "      <td>METHOD FOR FORMING BLANK AND METHOD FOR DETERM...</td>\n",
       "      <td>MECHANICAL</td>\n",
       "      <td>60.0</td>\n",
       "      <td>18.0</td>\n",
       "      <td>19/04/2023</td>\n",
       "    </tr>\n",
       "  </tbody>\n",
       "</table>\n",
       "</div>"
      ],
      "text/plain": [
       "  PUBLICATION_NUMBER PUBLICATION_DATE IPO_LOCATION  \\\n",
       "0            01/2022       07/01/2022        Delhi   \n",
       "1            01/2022       07/01/2022        Delhi   \n",
       "2            01/2022       07/01/2022      Chennai   \n",
       "3            01/2022       07/01/2022        Delhi   \n",
       "4            01/2022       07/01/2022        Delhi   \n",
       "5            01/2022       07/01/2022        Delhi   \n",
       "6            01/2022       07/01/2022      Kolkata   \n",
       "7            01/2022       07/01/2022        Delhi   \n",
       "8            01/2022       07/01/2022      Kolkata   \n",
       "9            01/2022       07/01/2022        Delhi   \n",
       "\n",
       "               APPLICATION_TYPE_DESC APPLICATION_NUMBER DATE_OF_FILING  \\\n",
       "0  DIVISIONAL CONVENTION APPLICATION      1004/DEL/2015     10/04/2015   \n",
       "1     PCT NATIONAL PHASE APPLICATION   10143/DELNP/2011     22/12/2011   \n",
       "2               ORDINARY APPLICATION       102/CHE/2010     15/02/2010   \n",
       "3     PCT NATIONAL PHASE APPLICATION   10205/DELNP/2015     02/11/2015   \n",
       "4     PCT NATIONAL PHASE APPLICATION   10296/DELNP/2011     27/12/2011   \n",
       "5     PCT NATIONAL PHASE APPLICATION   10353/DELNP/2013     02/12/2013   \n",
       "6               ORDINARY APPLICATION      1056/KOL/2013     11/09/2013   \n",
       "7     PCT NATIONAL PHASE APPLICATION   10625/DELNP/2015     19/11/2015   \n",
       "8     PCT NATIONAL PHASE APPLICATION    1078/KOLNP/2015     20/04/2015   \n",
       "9     PCT NATIONAL PHASE APPLICATION   10908/DELNP/2015     30/11/2015   \n",
       "\n",
       "                                  TITLE_OF_INVENTION FIELD_OF_INVENTION  \\\n",
       "0                VOLTAGE CONTROL FOR WIND GENERATORS         ELECTRICAL   \n",
       "1                                        \"ROTOR CAN\"         ELECTRICAL   \n",
       "2                 SUPER CONDUCTOR LIGHTNING DIVERTOR         ELECTRICAL   \n",
       "3           FIBRINOGEN BASED TISSUE ADHESIVE PATCHES       BIOCHEMISTRY   \n",
       "4  \"IMPLANTABLE DRUG DELIVERY DEVICES AND METHODS...         BIOMEDICAL   \n",
       "5  GAS TURBINE DIFFUSER BLOWING METHOD AND CORRES...         MECHANICAL   \n",
       "6  'AN IMPROVED GAS FIRED DUCT BURNER FOR EFFICIE...         MECHANICAL   \n",
       "7  CLUSTER HEAD SELECTION IN A COMMUNICATIONS NET...      COMMUNICATION   \n",
       "8  APPARATUS AND METHOD FOR CUTTING PIPES OF THER...         MECHANICAL   \n",
       "9  METHOD FOR FORMING BLANK AND METHOD FOR DETERM...         MECHANICAL   \n",
       "\n",
       "   NO_OF_PAGES  NO_OF_CLAIMS DATE_UPDATED_d_m_y  \n",
       "0         19.0           6.0         19/04/2023  \n",
       "1         23.0          15.0         19/04/2023  \n",
       "2         17.0          10.0         19/04/2023  \n",
       "3         35.0          62.0         19/04/2023  \n",
       "4         73.0          25.0         19/04/2023  \n",
       "5         20.0          11.0         19/04/2023  \n",
       "6         16.0           1.0         19/04/2023  \n",
       "7         34.0          25.0         19/04/2023  \n",
       "8         30.0          16.0         19/04/2023  \n",
       "9         60.0          18.0         19/04/2023  "
      ]
     },
     "execution_count": 3,
     "metadata": {},
     "output_type": "execute_result"
    }
   ],
   "source": [
    "df.head(10)"
   ]
  },
  {
   "cell_type": "code",
   "execution_count": 4,
   "id": "1b5e623c",
   "metadata": {
    "execution": {
     "iopub.execute_input": "2023-10-13T13:28:39.162782Z",
     "iopub.status.busy": "2023-10-13T13:28:39.162416Z",
     "iopub.status.idle": "2023-10-13T13:28:39.176497Z",
     "shell.execute_reply": "2023-10-13T13:28:39.175638Z"
    },
    "papermill": {
     "duration": 0.020913,
     "end_time": "2023-10-13T13:28:39.178666",
     "exception": false,
     "start_time": "2023-10-13T13:28:39.157753",
     "status": "completed"
    },
    "tags": []
   },
   "outputs": [
    {
     "name": "stdout",
     "output_type": "stream",
     "text": [
      "      IPO_LOCATION FIELD_OF_INVENTION\n",
      "0            Delhi         ELECTRICAL\n",
      "1            Delhi         ELECTRICAL\n",
      "2          Chennai         ELECTRICAL\n",
      "3            Delhi       BIOCHEMISTRY\n",
      "4            Delhi         BIOMEDICAL\n",
      "...            ...                ...\n",
      "30494        Delhi        ELECTRONICS\n",
      "30495        Delhi      COMMUNICATION\n",
      "30496      Kolkata           COMPUTER\n",
      "30497       Mumbai         MECHANICAL\n",
      "30498        Delhi         MECHANICAL\n",
      "\n",
      "[30499 rows x 2 columns]\n"
     ]
    }
   ],
   "source": [
    "y = df.NO_OF_PAGES\n",
    "\n",
    "features = ['IPO_LOCATION','FIELD_OF_INVENTION']\n",
    "X = df[features]\n",
    "print(X)"
   ]
  },
  {
   "cell_type": "code",
   "execution_count": 5,
   "id": "a289c668",
   "metadata": {
    "execution": {
     "iopub.execute_input": "2023-10-13T13:28:39.186403Z",
     "iopub.status.busy": "2023-10-13T13:28:39.186052Z",
     "iopub.status.idle": "2023-10-13T13:28:39.232676Z",
     "shell.execute_reply": "2023-10-13T13:28:39.231364Z"
    },
    "papermill": {
     "duration": 0.05312,
     "end_time": "2023-10-13T13:28:39.234999",
     "exception": false,
     "start_time": "2023-10-13T13:28:39.181879",
     "status": "completed"
    },
    "tags": []
   },
   "outputs": [
    {
     "data": {
      "text/plain": [
       "PUBLICATION_NUMBER        0\n",
       "PUBLICATION_DATE          0\n",
       "IPO_LOCATION              0\n",
       "APPLICATION_TYPE_DESC     0\n",
       "APPLICATION_NUMBER        0\n",
       "DATE_OF_FILING            0\n",
       "TITLE_OF_INVENTION        0\n",
       "FIELD_OF_INVENTION        0\n",
       "NO_OF_PAGES              48\n",
       "NO_OF_CLAIMS             29\n",
       "DATE_UPDATED_d_m_y        0\n",
       "dtype: int64"
      ]
     },
     "execution_count": 5,
     "metadata": {},
     "output_type": "execute_result"
    }
   ],
   "source": [
    "df.isnull().sum()"
   ]
  },
  {
   "cell_type": "code",
   "execution_count": 6,
   "id": "e97a6463",
   "metadata": {
    "execution": {
     "iopub.execute_input": "2023-10-13T13:28:39.243726Z",
     "iopub.status.busy": "2023-10-13T13:28:39.242679Z",
     "iopub.status.idle": "2023-10-13T13:28:39.259341Z",
     "shell.execute_reply": "2023-10-13T13:28:39.258250Z"
    },
    "papermill": {
     "duration": 0.023299,
     "end_time": "2023-10-13T13:28:39.261587",
     "exception": false,
     "start_time": "2023-10-13T13:28:39.238288",
     "status": "completed"
    },
    "tags": []
   },
   "outputs": [
    {
     "data": {
      "text/plain": [
       "MECHANICAL       7433\n",
       "CHEMISTRY        5799\n",
       "ELECTRICAL       2944\n",
       "ELECTRONICS      2895\n",
       "COMMUNICATION    1816\n",
       "COMPUTER         1788\n",
       "PHYSICS          1670\n",
       "BIOTECHNOLOGY    1330\n",
       "POLYMER          1247\n",
       "BIOMEDICAL       1219\n",
       "METALLURGY        695\n",
       "CIVIL             452\n",
       "TEXTILE           450\n",
       "BIOCHEMISTRY      445\n",
       "FOOD              316\n",
       "Name: FIELD_OF_INVENTION, dtype: int64"
      ]
     },
     "execution_count": 6,
     "metadata": {},
     "output_type": "execute_result"
    }
   ],
   "source": [
    "df['IPO_LOCATION'].value_counts()\n",
    "df['FIELD_OF_INVENTION'].value_counts()"
   ]
  },
  {
   "cell_type": "code",
   "execution_count": 7,
   "id": "ff560138",
   "metadata": {
    "execution": {
     "iopub.execute_input": "2023-10-13T13:28:39.269815Z",
     "iopub.status.busy": "2023-10-13T13:28:39.269460Z",
     "iopub.status.idle": "2023-10-13T13:28:39.628857Z",
     "shell.execute_reply": "2023-10-13T13:28:39.628100Z"
    },
    "papermill": {
     "duration": 0.366066,
     "end_time": "2023-10-13T13:28:39.630926",
     "exception": false,
     "start_time": "2023-10-13T13:28:39.264860",
     "status": "completed"
    },
    "tags": []
   },
   "outputs": [
    {
     "data": {
      "image/png": "[encoded data removed]",
      "text/plain": [
       "<Figure size 640x480 with 1 Axes>"
      ]
     },
     "metadata": {},
     "output_type": "display_data"
    }
   ],
   "source": [
    "df['FIELD_OF_INVENTION'].value_counts().plot(kind='barh')\n",
    "plt.xlabel('No. of Inventions')\n",
    "plt.ylabel('Field Of Invention')\n",
    "plt.show()"
   ]
  },
  {
   "cell_type": "code",
   "execution_count": 8,
   "id": "a8e966df",
   "metadata": {
    "execution": {
     "iopub.execute_input": "2023-10-13T13:28:39.641052Z",
     "iopub.status.busy": "2023-10-13T13:28:39.640025Z",
     "iopub.status.idle": "2023-10-13T13:28:39.795562Z",
     "shell.execute_reply": "2023-10-13T13:28:39.794519Z"
    },
    "papermill": {
     "duration": 0.16279,
     "end_time": "2023-10-13T13:28:39.797658",
     "exception": false,
     "start_time": "2023-10-13T13:28:39.634868",
     "status": "completed"
    },
    "tags": []
   },
   "outputs": [
    {
     "data": {
      "image/png": "[encoded data removed]",
      "text/plain": [
       "<Figure size 640x480 with 1 Axes>"
      ]
     },
     "metadata": {},
     "output_type": "display_data"
    }
   ],
   "source": [
    "#plt.bar(df['IPO_LOCATION'].unique(), df['IPO_LOCATION'].value_counts())\n",
    "df['IPO_LOCATION'].value_counts().plot(kind='bar')\n",
    "plt.ylabel('No. of Inventions')\n",
    "plt.xlabel('IPO Location')\n",
    "plt.show()"
   ]
  },
  {
   "cell_type": "code",
   "execution_count": null,
   "id": "c45f95eb",
   "metadata": {
    "papermill": {
     "duration": 0.00381,
     "end_time": "2023-10-13T13:28:39.805582",
     "exception": false,
     "start_time": "2023-10-13T13:28:39.801772",
     "status": "completed"
    },
    "tags": []
   },
   "outputs": [],
   "source": []
  }
 ],
 "metadata": {
  "kernelspec": {
   "display_name": "Python 3",
   "language": "python",
   "name": "python3"
  },
  "language_info": {
   "codemirror_mode": {
    "name": "ipython",
    "version": 3
   },
   "file_extension": ".py",
   "mimetype": "text/x-python",
   "name": "python",
   "nbconvert_exporter": "python",
   "pygments_lexer": "ipython3",
   "version": "3.10.10"
  },
  "papermill": {
   "default_parameters": {},
   "duration": 14.157255,
   "end_time": "2023-10-13T13:28:40.731734",
   "environment_variables": {},
   "exception": null,
   "input_path": "__notebook__.ipynb",
   "output_path": "__notebook__.ipynb",
   "parameters": {},
   "start_time": "2023-10-13T13:28:26.574479",
   "version": "2.4.0"
  }
 },
 "nbformat": 4,
 "nbformat_minor": 5
}
